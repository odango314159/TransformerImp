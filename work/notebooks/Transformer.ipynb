{
 "cells": [
  {
   "cell_type": "code",
   "execution_count": 7,
   "id": "41fcd7a3-075a-43c5-928b-d50d5e53da8a",
   "metadata": {},
   "outputs": [],
   "source": [
    "import os\n",
    "import sys\n",
    "import importnb\n",
    "from torch import nn\n",
    "import torch\n",
    "import numpy as np"
   ]
  },
  {
   "cell_type": "code",
   "execution_count": 8,
   "id": "b955404e-a732-41e9-9cfe-da397d9d74e5",
   "metadata": {},
   "outputs": [],
   "source": [
    "notebook_path = os.getcwd()\n",
    "parent_dir = os.path.dirname(notebook_path)\n",
    "sys.path.append(parent_dir)\n",
    "with __import__('importnb').Notebook(): \n",
    "    from utils.tools import MultiHeadAttention\n",
    "    from utils.tools import AddPositionalEncoding\n",
    "    from utils.tools import TransformerFFN"
   ]
  },
  {
   "cell_type": "code",
   "execution_count": 11,
   "id": "96187bf1-28a7-4353-9f3e-7f6c00010c57",
   "metadata": {},
   "outputs": [],
   "source": [
    "class TransformerEncoderLayer(nn.Module):\n",
    "    def __init__(\n",
    "        self,\n",
    "        d_model:int,\n",
    "        d_ff:int,\n",
    "        num_head:int,\n",
    "        dropout_rate:float,\n",
    "        layer_norm_eps:float,\n",
    "    ) -> None:\n",
    "        super().__init__()\n",
    "        ###layerの宣言\n",
    "        self.mha = MultiHeadAttention(num_head,d_model)\n",
    "        self.layernorm_mha = nn.LayerNorm(d_model,eps=layer_norm_eps)\n",
    "        self.dropout_mha = nn.Dropout(dropout_rate)\n",
    "\n",
    "        self.ffn = TransformerFFN(d_model,d_ff)\n",
    "        self.dropout_ffn = nn.Dropout(dropout_rate)\n",
    "        self.layernorm_ffn = nn.LayerNorm(d_model,eps=layer_norm_eps)\n",
    "\n",
    "    def forward(\n",
    "        self,\n",
    "        x:torch.Tensor,\n",
    "        mask:torch.Tensor=None\n",
    "    ) -> torch.Tensor:\n",
    "        \n",
    "        ###attention層を通す\n",
    "        output = self.__get_mha_output(x,mask)\n",
    "        ###add+layernorm\n",
    "        output = self.layernorm_mha(output+x)\n",
    "        \n",
    "        ###FFN層を通す\n",
    "        output = self.__get_ffn_output(output)\n",
    "        ###add+layernorm\n",
    "        output = self.layernorm_ffn(output+x)\n",
    "\n",
    "        return output\n",
    "        \n",
    "    def __get_mha_output(\n",
    "        self,\n",
    "        x:torch.Tensor,\n",
    "        mask:torch.Tensor=None\n",
    "    ) -> torch.Tensor:\n",
    "        x = self.mha(x,x,x,mask)\n",
    "        x = self.dropout_mha(x)\n",
    "        return x\n",
    "        \n",
    "    def __get_ffn_output(\n",
    "        self,\n",
    "        x:torch.Tensor,\n",
    "    ) -> torch.Tensor:\n",
    "        x = self.ffn(x)\n",
    "        x = self.dropout_ffn(x)\n",
    "        return x"
   ]
  }
 ],
 "metadata": {
  "kernelspec": {
   "display_name": "Python 3 (ipykernel)",
   "language": "python",
   "name": "python3"
  },
  "language_info": {
   "codemirror_mode": {
    "name": "ipython",
    "version": 3
   },
   "file_extension": ".py",
   "mimetype": "text/x-python",
   "name": "python",
   "nbconvert_exporter": "python",
   "pygments_lexer": "ipython3",
   "version": "3.8.18"
  }
 },
 "nbformat": 4,
 "nbformat_minor": 5
}
