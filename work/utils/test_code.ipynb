{
 "cells": [
  {
   "cell_type": "code",
   "execution_count": 1,
   "id": "fa838f70-e623-4178-b391-b30f1c901f1c",
   "metadata": {},
   "outputs": [],
   "source": [
    "import torch\n",
    "import numpy as np\n",
    "import torch.nn as nn"
   ]
  },
  {
   "cell_type": "code",
   "execution_count": 2,
   "id": "2a1e08fc-887b-4cd0-82a9-7613b5e48849",
   "metadata": {},
   "outputs": [],
   "source": [
    "import importnb\n",
    "with __import__('importnb').Notebook(): \n",
    "    from tools import ScaledDotProductAttention\n",
    "    from tools import MultiHeadAttention"
   ]
  },
  {
   "cell_type": "markdown",
   "id": "db0096c9-d3d2-4aee-9c95-6d7d77808787",
   "metadata": {},
   "source": [
    "## SelfAttentionの実行\n",
    "\n",
    "### 適当なデータの作成\n",
    "---\n",
    "新しくデータkを作る。kは***(B,T,d_model)***のshapeを持つテンソルである。\n",
    "\n",
    "\n",
    "### SelfAttentionにする\n",
    "---\n",
    "q,k,vを同じテンソルにすることでSelfAttentionにする。\n",
    "\n",
    "\n",
    "### forwardで計算を行う。\n",
    "---\n",
    "呼び出したspa.forward()によって計算を行う。\n",
    "この時spaの初期化で与えるd_kには本来d_modelをhead数で割った値が入る(デフォルトだと512/8で64)"
   ]
  },
  {
   "cell_type": "code",
   "execution_count": 11,
   "id": "62951971-aa1c-4508-8b78-fa44b9013862",
   "metadata": {},
   "outputs": [],
   "source": [
    "###SelfAttentionの実行\n",
    "num_head = 4\n",
    "batch_size = 2\n",
    "seq_len = 10\n",
    "d_model = 64\n",
    "k = torch.randn(batch_size,seq_len,d_model)"
   ]
  },
  {
   "cell_type": "code",
   "execution_count": 12,
   "id": "ecc369f5-0032-4087-b462-fcfb45194a4f",
   "metadata": {},
   "outputs": [],
   "source": [
    "###SelfAttentionにするためにqとvとkを一緒にする\n",
    "q = torch.randn(batch_size,seq_len,d_model)\n",
    "v = torch.randn(batch_size,seq_len,d_model)\n",
    "spa = ScaledDotProductAttention(16)\n",
    "attention_weight = spa.forward(q,k,v)"
   ]
  },
  {
   "cell_type": "code",
   "execution_count": 13,
   "id": "58e5d7d6-a59a-4661-beb0-2345d1f958e3",
   "metadata": {},
   "outputs": [
    {
     "data": {
      "text/plain": [
       "torch.Size([2, 10, 64])"
      ]
     },
     "execution_count": 13,
     "metadata": {},
     "output_type": "execute_result"
    }
   ],
   "source": [
    "attention_weight.shape"
   ]
  },
  {
   "cell_type": "markdown",
   "id": "dfe97f88-d698-466c-88f1-e6344f853360",
   "metadata": {},
   "source": [
    "## MultiHeadAttentionの実行\n",
    "ランダムなテンソル、スタンダードなマスクを使う。"
   ]
  },
  {
   "cell_type": "code",
   "execution_count": 14,
   "id": "5ebadbee-ed4c-47eb-837a-70117b3c7015",
   "metadata": {},
   "outputs": [
    {
     "data": {
      "text/plain": [
       "torch.Size([2, 10, 10])"
      ]
     },
     "execution_count": 14,
     "metadata": {},
     "output_type": "execute_result"
    }
   ],
   "source": [
    "def create_incremental_mask(seq_len):\n",
    "    \"\"\"\n",
    "    seq_len x seq_len のサイズのマスクを生成する。\n",
    "    0列目は全てFalse、以降の列では上から順にTrueの数を増やしていく。\n",
    "    \"\"\"\n",
    "    # seq_len x seq_len の行列を生成し、初期値は全てFalseに設定\n",
    "    mask = torch.full((seq_len, seq_len), False)\n",
    "\n",
    "    # 各列に対して、上から順にTrueをセットする\n",
    "    for i in range(seq_len):\n",
    "        mask[:i, i] = True\n",
    "\n",
    "    return mask\n",
    "mask = create_incremental_mask(seq_len).repeat(batch_size,1,1)\n",
    "mask.shape"
   ]
  },
  {
   "cell_type": "code",
   "execution_count": 63,
   "id": "ab94cb70-7533-4052-abb7-cda50d0549d4",
   "metadata": {},
   "outputs": [],
   "source": [
    "mha = MultiHeadAttention(num_head,d_model)\n",
    "output = mha(q,k,v,mask=mask)"
   ]
  },
  {
   "cell_type": "code",
   "execution_count": 64,
   "id": "8c5b48da-d681-48b2-a150-3f47ce307f2c",
   "metadata": {},
   "outputs": [
    {
     "data": {
      "text/plain": [
       "torch.Size([2, 10, 64])"
      ]
     },
     "execution_count": 64,
     "metadata": {},
     "output_type": "execute_result"
    }
   ],
   "source": [
    "output.shape"
   ]
  },
  {
   "cell_type": "code",
   "execution_count": 65,
   "id": "86086690-f220-4af9-a807-edf3470730ba",
   "metadata": {},
   "outputs": [
    {
     "data": {
      "text/plain": [
       "tensor([[[ 0.0957, -0.1196, -0.0282,  ..., -0.0597, -0.2022,  0.0933],\n",
       "         [ 0.0520, -0.1581, -0.1929,  ..., -0.1734, -0.1570, -0.1558],\n",
       "         [ 0.0274, -0.1966, -0.1885,  ..., -0.1473, -0.1109, -0.0960],\n",
       "         ...,\n",
       "         [ 0.0266, -0.1267, -0.1294,  ..., -0.1157, -0.1193, -0.0491],\n",
       "         [-0.0135, -0.0415, -0.0956,  ..., -0.1137, -0.1243, -0.0560],\n",
       "         [-0.0122, -0.0608, -0.0876,  ..., -0.1133, -0.1376, -0.0450]],\n",
       "\n",
       "        [[-0.3005, -0.1087, -0.0952,  ...,  0.0574, -0.0104,  0.0695],\n",
       "         [-0.0461, -0.1701,  0.0091,  ...,  0.0523, -0.1382, -0.0243],\n",
       "         [-0.0439, -0.0755, -0.0062,  ...,  0.0881, -0.0864, -0.0440],\n",
       "         ...,\n",
       "         [ 0.0058, -0.0382,  0.0456,  ..., -0.0073, -0.0369,  0.0097],\n",
       "         [ 0.0018,  0.0047,  0.0597,  ..., -0.0319, -0.0606,  0.0176],\n",
       "         [ 0.0194,  0.0180,  0.0563,  ..., -0.0228, -0.0629,  0.0430]]],\n",
       "       grad_fn=<ViewBackward0>)"
      ]
     },
     "execution_count": 65,
     "metadata": {},
     "output_type": "execute_result"
    }
   ],
   "source": [
    "output"
   ]
  },
  {
   "cell_type": "code",
   "execution_count": null,
   "id": "ad9950c4-4bed-47b9-b00d-562945bef652",
   "metadata": {},
   "outputs": [],
   "source": []
  }
 ],
 "metadata": {
  "kernelspec": {
   "display_name": "Python 3 (ipykernel)",
   "language": "python",
   "name": "python3"
  },
  "language_info": {
   "codemirror_mode": {
    "name": "ipython",
    "version": 3
   },
   "file_extension": ".py",
   "mimetype": "text/x-python",
   "name": "python",
   "nbconvert_exporter": "python",
   "pygments_lexer": "ipython3",
   "version": "3.8.18"
  }
 },
 "nbformat": 4,
 "nbformat_minor": 5
}
