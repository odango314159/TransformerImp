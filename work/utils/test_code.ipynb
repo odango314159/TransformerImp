{
 "cells": [
  {
   "cell_type": "code",
   "execution_count": 1,
   "id": "fa838f70-e623-4178-b391-b30f1c901f1c",
   "metadata": {},
   "outputs": [],
   "source": [
    "import torch\n",
    "import numpy as np\n",
    "import torch.nn as nn"
   ]
  },
  {
   "cell_type": "code",
   "execution_count": 2,
   "id": "2a1e08fc-887b-4cd0-82a9-7613b5e48849",
   "metadata": {},
   "outputs": [],
   "source": [
    "import importnb\n",
    "with __import__('importnb').Notebook(): \n",
    "    from tools import ScaledDotProductAttention\n",
    "    from tools import MultiHeadAttention\n",
    "    from tools import AddPositionalEncoding\n",
    "    from tools import TransformerFNN"
   ]
  },
  {
   "cell_type": "markdown",
   "id": "db0096c9-d3d2-4aee-9c95-6d7d77808787",
   "metadata": {},
   "source": [
    "## SelfAttentionの実行\n",
    "\n",
    "### 適当なデータの作成\n",
    "---\n",
    "新しくデータkを作る。kは***(B,T,d_model)***のshapeを持つテンソルである。\n",
    "\n",
    "\n",
    "### SelfAttentionにする\n",
    "---\n",
    "q,k,vを同じテンソルにすることでSelfAttentionにする。\n",
    "\n",
    "\n",
    "### forwardで計算を行う。\n",
    "---\n",
    "呼び出したspa.forward()によって計算を行う。\n",
    "この時spaの初期化で与えるd_kには本来d_modelをhead数で割った値が入る(デフォルトだと512/8で64)"
   ]
  },
  {
   "cell_type": "code",
   "execution_count": 14,
   "id": "62951971-aa1c-4508-8b78-fa44b9013862",
   "metadata": {},
   "outputs": [],
   "source": [
    "###SelfAttentionの実行\n",
    "num_head = 4\n",
    "batch_size = 2\n",
    "seq_len = 10\n",
    "d_model = 64\n",
    "max_len = 512\n",
    "k = torch.randn(batch_size,seq_len,d_model)"
   ]
  },
  {
   "cell_type": "code",
   "execution_count": 15,
   "id": "ecc369f5-0032-4087-b462-fcfb45194a4f",
   "metadata": {},
   "outputs": [],
   "source": [
    "###SelfAttentionにするためにqとvとkを一緒にする\n",
    "pe = AddPositionalEncoding(d_model,max_len)\n",
    "k = pe(k)\n",
    "q = k\n",
    "v = k\n",
    "spa = ScaledDotProductAttention(16)\n",
    "attention_weight = spa.forward(q,k,v)"
   ]
  },
  {
   "cell_type": "code",
   "execution_count": 16,
   "id": "58e5d7d6-a59a-4661-beb0-2345d1f958e3",
   "metadata": {},
   "outputs": [
    {
     "data": {
      "text/plain": [
       "torch.Size([2, 10, 64])"
      ]
     },
     "execution_count": 16,
     "metadata": {},
     "output_type": "execute_result"
    }
   ],
   "source": [
    "attention_weight.shape"
   ]
  },
  {
   "cell_type": "markdown",
   "id": "dfe97f88-d698-466c-88f1-e6344f853360",
   "metadata": {},
   "source": [
    "## MultiHeadAttentionの実行\n",
    "ランダムなテンソル、スタンダードなマスクを使う。"
   ]
  },
  {
   "cell_type": "code",
   "execution_count": 17,
   "id": "5ebadbee-ed4c-47eb-837a-70117b3c7015",
   "metadata": {},
   "outputs": [
    {
     "data": {
      "text/plain": [
       "torch.Size([2, 10, 10])"
      ]
     },
     "execution_count": 17,
     "metadata": {},
     "output_type": "execute_result"
    }
   ],
   "source": [
    "def create_incremental_mask(seq_len):\n",
    "    \"\"\"\n",
    "    seq_len x seq_len のサイズのマスクを生成する。\n",
    "    0列目は全てFalse、以降の列では上から順にTrueの数を増やしていく。\n",
    "    \"\"\"\n",
    "    # seq_len x seq_len の行列を生成し、初期値は全てFalseに設定\n",
    "    mask = torch.full((seq_len, seq_len), False)\n",
    "\n",
    "    # 各列に対して、上から順にTrueをセットする\n",
    "    for i in range(seq_len):\n",
    "        mask[:i, i] = True\n",
    "\n",
    "    return mask\n",
    "mask = create_incremental_mask(seq_len).repeat(batch_size,1,1)\n",
    "mask.shape"
   ]
  },
  {
   "cell_type": "code",
   "execution_count": 18,
   "id": "ab94cb70-7533-4052-abb7-cda50d0549d4",
   "metadata": {},
   "outputs": [],
   "source": [
    "mha = MultiHeadAttention(num_head,d_model)\n",
    "output = mha(q,k,v,mask=mask)"
   ]
  },
  {
   "cell_type": "code",
   "execution_count": 19,
   "id": "8c5b48da-d681-48b2-a150-3f47ce307f2c",
   "metadata": {},
   "outputs": [
    {
     "data": {
      "text/plain": [
       "torch.Size([2, 10, 64])"
      ]
     },
     "execution_count": 19,
     "metadata": {},
     "output_type": "execute_result"
    }
   ],
   "source": [
    "output.shape"
   ]
  },
  {
   "cell_type": "code",
   "execution_count": 20,
   "id": "86086690-f220-4af9-a807-edf3470730ba",
   "metadata": {},
   "outputs": [
    {
     "data": {
      "text/plain": [
       "tensor([[[ 0.1116,  0.4256,  0.2973,  ...,  0.0891, -0.3531,  0.1125],\n",
       "         [-0.1245,  0.2894,  0.1675,  ...,  0.1052, -0.1104,  0.1493],\n",
       "         [-0.0582,  0.2513,  0.1443,  ...,  0.2361, -0.0443,  0.2246],\n",
       "         ...,\n",
       "         [-0.1632,  0.1023,  0.0091,  ...,  0.1978,  0.0255,  0.0438],\n",
       "         [-0.1635,  0.0764,  0.0023,  ...,  0.2245,  0.0366,  0.0202],\n",
       "         [-0.1214,  0.1232,  0.0191,  ...,  0.2253,  0.0042, -0.0100]],\n",
       "\n",
       "        [[-0.0242,  0.4335, -0.1325,  ...,  0.2754, -0.3820, -0.3835],\n",
       "         [-0.0508,  0.3018, -0.0374,  ...,  0.2524, -0.1548, -0.2066],\n",
       "         [-0.0208,  0.3573,  0.0093,  ...,  0.3498, -0.1471, -0.2391],\n",
       "         ...,\n",
       "         [-0.0161,  0.2141,  0.0298,  ...,  0.1064, -0.0140, -0.2941],\n",
       "         [-0.0066,  0.2311,  0.0255,  ...,  0.1294, -0.0374, -0.2716],\n",
       "         [-0.0407,  0.2099,  0.0349,  ...,  0.1324, -0.0149, -0.2273]]],\n",
       "       grad_fn=<ViewBackward0>)"
      ]
     },
     "execution_count": 20,
     "metadata": {},
     "output_type": "execute_result"
    }
   ],
   "source": [
    "output"
   ]
  }
 ],
 "metadata": {
  "kernelspec": {
   "display_name": "Python 3 (ipykernel)",
   "language": "python",
   "name": "python3"
  },
  "language_info": {
   "codemirror_mode": {
    "name": "ipython",
    "version": 3
   },
   "file_extension": ".py",
   "mimetype": "text/x-python",
   "name": "python",
   "nbconvert_exporter": "python",
   "pygments_lexer": "ipython3",
   "version": "3.8.18"
  }
 },
 "nbformat": 4,
 "nbformat_minor": 5
}
