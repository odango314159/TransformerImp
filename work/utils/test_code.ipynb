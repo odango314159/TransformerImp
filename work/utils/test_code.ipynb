{
 "cells": [
  {
   "cell_type": "code",
   "execution_count": 1,
   "id": "fa838f70-e623-4178-b391-b30f1c901f1c",
   "metadata": {},
   "outputs": [],
   "source": [
    "import torch\n",
    "import numpy as np\n",
    "import torch.nn as nn\n",
    "import os\n",
    "import sys"
   ]
  },
  {
   "cell_type": "code",
   "execution_count": 2,
   "id": "66a07d0e-2b76-4744-a7a8-a723f579874a",
   "metadata": {},
   "outputs": [],
   "source": [
    "notebook_path = os.getcwd()\n",
    "parent_dir = os.path.dirname(notebook_path)\n",
    "sys.path.append(parent_dir)"
   ]
  },
  {
   "cell_type": "code",
   "execution_count": 3,
   "id": "2a1e08fc-887b-4cd0-82a9-7613b5e48849",
   "metadata": {},
   "outputs": [],
   "source": [
    "import importnb\n",
    "with __import__('importnb').Notebook(): \n",
    "    from tools import ScaledDotProductAttention\n",
    "    from tools import MultiHeadAttention\n",
    "    from tools import AddPositionalEncoding\n",
    "    from tools import TransformerFFN\n",
    "    from notebooks.Transformer import TransformerEncoderLayer"
   ]
  },
  {
   "cell_type": "markdown",
   "id": "db0096c9-d3d2-4aee-9c95-6d7d77808787",
   "metadata": {},
   "source": [
    "## SelfAttentionの実行\n",
    "\n",
    "### 適当なデータの作成\n",
    "---\n",
    "新しくデータkを作る。kは***(B,T,d_model)***のshapeを持つテンソルである。\n",
    "\n",
    "\n",
    "### SelfAttentionにする\n",
    "---\n",
    "q,k,vを同じテンソルにすることでSelfAttentionにする。\n",
    "\n",
    "\n",
    "### forwardで計算を行う。\n",
    "---\n",
    "呼び出したspa.forward()によって計算を行う。\n",
    "この時spaの初期化で与えるd_kには本来d_modelをhead数で割った値が入る(デフォルトだと512/8で64)"
   ]
  },
  {
   "cell_type": "code",
   "execution_count": 4,
   "id": "62951971-aa1c-4508-8b78-fa44b9013862",
   "metadata": {},
   "outputs": [],
   "source": [
    "###SelfAttentionの実行\n",
    "num_head = 4\n",
    "batch_size = 2\n",
    "seq_len = 10\n",
    "d_model = 64\n",
    "max_len = 512\n",
    "d_ff =1024\n",
    "dropout_rate=0.1\n",
    "layer_norm_eps = 1e-5\n",
    "k = torch.randn(batch_size,seq_len,d_model)"
   ]
  },
  {
   "cell_type": "code",
   "execution_count": 6,
   "id": "ecc369f5-0032-4087-b462-fcfb45194a4f",
   "metadata": {},
   "outputs": [],
   "source": [
    "###SelfAttentionにするためにqとvとkを一緒にする\n",
    "pe = AddPositionalEncoding(d_model,max_len)\n",
    "k = pe(k)\n",
    "q = k\n",
    "v = k\n",
    "spa = ScaledDotProductAttention(16)\n",
    "attention_weight = spa.forward(q,k,v)"
   ]
  },
  {
   "cell_type": "code",
   "execution_count": 7,
   "id": "58e5d7d6-a59a-4661-beb0-2345d1f958e3",
   "metadata": {},
   "outputs": [
    {
     "data": {
      "text/plain": [
       "torch.Size([2, 10, 64])"
      ]
     },
     "execution_count": 7,
     "metadata": {},
     "output_type": "execute_result"
    }
   ],
   "source": [
    "attention_weight.shape"
   ]
  },
  {
   "cell_type": "markdown",
   "id": "dfe97f88-d698-466c-88f1-e6344f853360",
   "metadata": {},
   "source": [
    "## MultiHeadAttentionの実行\n",
    "ランダムなテンソル、スタンダードなマスクを使う。"
   ]
  },
  {
   "cell_type": "code",
   "execution_count": 7,
   "id": "5ebadbee-ed4c-47eb-837a-70117b3c7015",
   "metadata": {},
   "outputs": [
    {
     "data": {
      "text/plain": [
       "torch.Size([2, 10, 10])"
      ]
     },
     "execution_count": 7,
     "metadata": {},
     "output_type": "execute_result"
    }
   ],
   "source": [
    "def create_incremental_mask(seq_len):\n",
    "    \"\"\"\n",
    "    seq_len x seq_len のサイズのマスクを生成する。\n",
    "    0列目は全てFalse、以降の列では上から順にTrueの数を増やしていく。\n",
    "    \"\"\"\n",
    "    # seq_len x seq_len の行列を生成し、初期値は全てFalseに設定\n",
    "    mask = torch.full((seq_len, seq_len), False)\n",
    "\n",
    "    # 各列に対して、上から順にTrueをセットする\n",
    "    for i in range(seq_len):\n",
    "        mask[:i, i] = True\n",
    "\n",
    "    return mask\n",
    "mask = create_incremental_mask(seq_len).repeat(batch_size,1,1)\n",
    "mask.shape"
   ]
  },
  {
   "cell_type": "code",
   "execution_count": 9,
   "id": "ab94cb70-7533-4052-abb7-cda50d0549d4",
   "metadata": {},
   "outputs": [],
   "source": [
    "mha = MultiHeadAttention(num_head,d_model)\n",
    "output = mha(q,k,v,mask=mask)"
   ]
  },
  {
   "cell_type": "code",
   "execution_count": 5,
   "id": "692a7e7f-4ee9-406a-afe0-9e23b820d895",
   "metadata": {},
   "outputs": [],
   "source": [
    "encoder = TransformerEncoderLayer(\n",
    "    d_model = d_model,\n",
    "    d_ff = d_ff,\n",
    "    num_head = num_head,\n",
    "    dropout_rate=dropout_rate,\n",
    "    layer_norm_eps=layer_norm_eps\n",
    ")"
   ]
  },
  {
   "cell_type": "code",
   "execution_count": 8,
   "id": "712a730d-de65-4ed3-a880-f122b427032f",
   "metadata": {},
   "outputs": [],
   "source": [
    "output = encoder(k,mask=mask)"
   ]
  },
  {
   "cell_type": "code",
   "execution_count": 9,
   "id": "8c5b48da-d681-48b2-a150-3f47ce307f2c",
   "metadata": {},
   "outputs": [
    {
     "data": {
      "text/plain": [
       "torch.Size([2, 10, 64])"
      ]
     },
     "execution_count": 9,
     "metadata": {},
     "output_type": "execute_result"
    }
   ],
   "source": [
    "output.shape"
   ]
  },
  {
   "cell_type": "code",
   "execution_count": 10,
   "id": "86086690-f220-4af9-a807-edf3470730ba",
   "metadata": {},
   "outputs": [
    {
     "data": {
      "text/plain": [
       "tensor([[[-0.4798, -1.6409,  1.5316,  ..., -0.2062, -0.6141,  0.1137],\n",
       "         [-1.0895,  1.2770, -0.3501,  ..., -0.1438, -0.0943, -0.3211],\n",
       "         [-0.7535,  1.0697, -0.3661,  ..., -0.3552,  1.0728, -2.2408],\n",
       "         ...,\n",
       "         [-0.5272, -1.3278,  1.1327,  ..., -0.6883,  2.1593,  0.5936],\n",
       "         [ 2.5874,  0.0259,  0.3282,  ...,  2.3327, -1.8902,  0.8085],\n",
       "         [-1.2454,  1.3842,  0.2644,  ...,  0.5179,  0.8128,  0.8103]],\n",
       "\n",
       "        [[-0.0745, -1.6565, -0.4859,  ..., -0.6737,  1.6863, -1.8581],\n",
       "         [ 1.6795, -1.8668, -1.4459,  ...,  0.4184,  0.3278, -0.5743],\n",
       "         [-0.1570, -0.5188,  0.5838,  ...,  1.3809, -1.4716, -0.3097],\n",
       "         ...,\n",
       "         [ 1.1120, -0.7480,  0.8193,  ..., -0.7944,  1.2841,  1.1541],\n",
       "         [ 1.2012, -1.2838, -0.8361,  ..., -0.5563, -0.9324, -0.2621],\n",
       "         [-0.4867,  0.6821,  0.0384,  ...,  0.0147,  2.3731,  0.3057]]],\n",
       "       grad_fn=<NativeLayerNormBackward0>)"
      ]
     },
     "execution_count": 10,
     "metadata": {},
     "output_type": "execute_result"
    }
   ],
   "source": [
    "output"
   ]
  },
  {
   "cell_type": "code",
   "execution_count": null,
   "id": "43e20c35-ec23-436f-943f-c9b0eb864fe4",
   "metadata": {},
   "outputs": [],
   "source": []
  }
 ],
 "metadata": {
  "kernelspec": {
   "display_name": "Python 3 (ipykernel)",
   "language": "python",
   "name": "python3"
  },
  "language_info": {
   "codemirror_mode": {
    "name": "ipython",
    "version": 3
   },
   "file_extension": ".py",
   "mimetype": "text/x-python",
   "name": "python",
   "nbconvert_exporter": "python",
   "pygments_lexer": "ipython3",
   "version": "3.8.18"
  }
 },
 "nbformat": 4,
 "nbformat_minor": 5
}
