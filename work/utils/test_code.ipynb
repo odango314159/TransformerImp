{
 "cells": [
  {
   "cell_type": "code",
   "execution_count": null,
   "id": "fa838f70-e623-4178-b391-b30f1c901f1c",
   "metadata": {},
   "outputs": [],
   "source": [
    "import torch\n",
    "import numpy as np\n",
    "import torch.nn as nn"
   ]
  },
  {
   "cell_type": "code",
   "execution_count": 29,
   "id": "2a1e08fc-887b-4cd0-82a9-7613b5e48849",
   "metadata": {},
   "outputs": [],
   "source": [
    "import importnb\n",
    "with __import__('importnb').Notebook(): \n",
    "    from scaled_dot_product_attention import ScaledDotProductAttention"
   ]
  },
  {
   "cell_type": "markdown",
   "id": "db0096c9-d3d2-4aee-9c95-6d7d77808787",
   "metadata": {},
   "source": [
    "## SelfAttentionの実行\n",
    "\n",
    "### 適当なデータの作成\n",
    "---\n",
    "新しくデータkを作る。kは***(B,T,d_model)***のshapeを持つテンソルである。\n",
    "\n",
    "\n",
    "### SelfAttentionにする\n",
    "---\n",
    "q,k,vを同じテンソルにすることでSelfAttentionにする。\n",
    "\n",
    "\n",
    "### forwardで計算を行う。\n",
    "---\n",
    "呼び出したspa.forward()によって計算を行う。\n",
    "この時spaの初期化で与えるd_kには本来d_modelをhead数で割った値が入る(デフォルトだと512/8で64)"
   ]
  },
  {
   "cell_type": "code",
   "execution_count": 30,
   "id": "62951971-aa1c-4508-8b78-fa44b9013862",
   "metadata": {},
   "outputs": [],
   "source": [
    "###SelfAttentionの実行\n",
    "k = torch.Tensor([\n",
    "[\n",
    "    [1,-2],\n",
    "    [-8,7],\n",
    "    [10,9],\n",
    "    [13,14]\n",
    "],\n",
    "[\n",
    "    [3,4],\n",
    "    [5,6],\n",
    "    [8,9],\n",
    "    [10,11]\n",
    "],\n",
    "[\n",
    "    [1,1],\n",
    "    [2,4],\n",
    "    [5,7],\n",
    "    [3,6]\n",
    "]\n",
    "])"
   ]
  },
  {
   "cell_type": "code",
   "execution_count": 31,
   "id": "ecc369f5-0032-4087-b462-fcfb45194a4f",
   "metadata": {},
   "outputs": [],
   "source": [
    "###SelfAttentionにするためにqとvとkを一緒にする\n",
    "q = k\n",
    "v = k\n",
    "spa = ScaledDotProductAttention(64)\n",
    "attention_weight = spa.forward(q,k,v)"
   ]
  },
  {
   "cell_type": "code",
   "execution_count": 32,
   "id": "58e5d7d6-a59a-4661-beb0-2345d1f958e3",
   "metadata": {},
   "outputs": [
    {
     "data": {
      "text/plain": [
       "tensor([[[ 2.8651,  0.8840],\n",
       "         [-8.0000,  7.0000],\n",
       "         [12.9997, 13.9996],\n",
       "         [13.0000, 14.0000]],\n",
       "\n",
       "        [[ 9.6417, 10.6417],\n",
       "         [ 9.8747, 10.8747],\n",
       "         [ 9.9718, 10.9718],\n",
       "         [ 9.9895, 10.9896]],\n",
       "\n",
       "        [[ 3.3903,  5.4370],\n",
       "         [ 4.2456,  6.4677],\n",
       "         [ 4.7578,  6.8626],\n",
       "         [ 4.5564,  6.7296]]])"
      ]
     },
     "execution_count": 32,
     "metadata": {},
     "output_type": "execute_result"
    }
   ],
   "source": [
    "attention_weight"
   ]
  },
  {
   "cell_type": "code",
   "execution_count": null,
   "id": "0a61a3b8-5af2-4b20-8f14-1eb15ce53021",
   "metadata": {},
   "outputs": [],
   "source": []
  }
 ],
 "metadata": {
  "kernelspec": {
   "display_name": "Python 3 (ipykernel)",
   "language": "python",
   "name": "python3"
  },
  "language_info": {
   "codemirror_mode": {
    "name": "ipython",
    "version": 3
   },
   "file_extension": ".py",
   "mimetype": "text/x-python",
   "name": "python",
   "nbconvert_exporter": "python",
   "pygments_lexer": "ipython3",
   "version": "3.8.18"
  }
 },
 "nbformat": 4,
 "nbformat_minor": 5
}
