{
 "cells": [
  {
   "cell_type": "code",
   "execution_count": 1,
   "id": "fa838f70-e623-4178-b391-b30f1c901f1c",
   "metadata": {},
   "outputs": [],
   "source": [
    "import torch\n",
    "import numpy as np\n",
    "import torch.nn as nn\n",
    "import os\n",
    "import sys"
   ]
  },
  {
   "cell_type": "code",
   "execution_count": 2,
   "id": "66a07d0e-2b76-4744-a7a8-a723f579874a",
   "metadata": {},
   "outputs": [],
   "source": [
    "notebook_path = os.getcwd()\n",
    "parent_dir = os.path.dirname(notebook_path)\n",
    "sys.path.append(parent_dir)"
   ]
  },
  {
   "cell_type": "code",
   "execution_count": 3,
   "id": "2a1e08fc-887b-4cd0-82a9-7613b5e48849",
   "metadata": {},
   "outputs": [],
   "source": [
    "import importnb\n",
    "with __import__('importnb').Notebook(): \n",
    "    from tools import ScaledDotProductAttention\n",
    "    from tools import MultiHeadAttention\n",
    "    from tools import AddPositionalEncoding\n",
    "    from tools import TransformerFFN\n",
    "    from notebooks.model import TransformerEncoderLayer,TransformerEncoder"
   ]
  },
  {
   "cell_type": "markdown",
   "id": "db0096c9-d3d2-4aee-9c95-6d7d77808787",
   "metadata": {},
   "source": [
    "## SelfAttentionの実行\n",
    "\n",
    "### 適当なデータの作成\n",
    "---\n",
    "新しくデータkを作る。kは**(B,T,d_model)**のshapeを持つテンソルである。\n",
    "\n",
    "\n",
    "### SelfAttentionにする\n",
    "---\n",
    "q,k,vを同じテンソルにすることでSelfAttentionにする。\n",
    "\n",
    "\n",
    "### forwardで計算を行う。\n",
    "---\n",
    "呼び出したspa.forward()によって計算を行う。\n",
    "この時spaの初期化で与えるd_kには本来d_modelをhead数で割った値が入る(デフォルトだと512/8で64)"
   ]
  },
  {
   "cell_type": "code",
   "execution_count": 60,
   "id": "62951971-aa1c-4508-8b78-fa44b9013862",
   "metadata": {},
   "outputs": [],
   "source": [
    "###SelfAttentionの実行\n",
    "num_head = 4\n",
    "batch_size = 2\n",
    "seq_len = 8\n",
    "d_model = 64\n",
    "max_len = 512\n",
    "d_ff =1024\n",
    "N = 6\n",
    "pad_idx = 0\n",
    "vocab_size = 4200\n",
    "dropout_rate=0.1\n",
    "layer_norm_eps = 1e-5\n",
    "k = torch.randint(0,2000, (batch_size, seq_len)).to(torch.int64)"
   ]
  },
  {
   "cell_type": "markdown",
   "id": "dfe97f88-d698-466c-88f1-e6344f853360",
   "metadata": {},
   "source": [
    "## MultiHeadAttentionの実行\n",
    "ランダムなテンソル、スタンダードなマスクを使う。"
   ]
  },
  {
   "cell_type": "code",
   "execution_count": 61,
   "id": "5ebadbee-ed4c-47eb-837a-70117b3c7015",
   "metadata": {},
   "outputs": [
    {
     "data": {
      "text/plain": [
       "torch.Size([2, 8, 8])"
      ]
     },
     "execution_count": 61,
     "metadata": {},
     "output_type": "execute_result"
    }
   ],
   "source": [
    "def create_incremental_mask(seq_len):\n",
    "    \"\"\"\n",
    "    seq_len x seq_len のサイズのマスクを生成する。\n",
    "    0列目は全てFalse、以降の列では上から順にTrueの数を増やしていく。\n",
    "    \"\"\"\n",
    "    # seq_len x seq_len の行列を生成し、初期値は全てFalseに設定\n",
    "    mask = torch.full((seq_len, seq_len), False)\n",
    "\n",
    "    # 各列に対して、上から順にTrueをセットする\n",
    "    for i in range(seq_len):\n",
    "        mask[:i, i] = True\n",
    "\n",
    "    return mask\n",
    "mask = create_incremental_mask(seq_len).repeat(batch_size,1,1)\n",
    "mask.shape"
   ]
  },
  {
   "cell_type": "code",
   "execution_count": 62,
   "id": "692a7e7f-4ee9-406a-afe0-9e23b820d895",
   "metadata": {},
   "outputs": [],
   "source": [
    "encoder = TransformerEncoder(\n",
    "    d_model = d_model,\n",
    "    d_ff = d_ff,\n",
    "    num_head = num_head,\n",
    "    N=N,\n",
    "    max_len=max_len,\n",
    "    pad_idx=pad_idx,\n",
    "    vocab_size=vocab_size,\n",
    "    dropout_rate=dropout_rate,\n",
    "    layer_norm_eps=layer_norm_eps\n",
    ")"
   ]
  },
  {
   "cell_type": "code",
   "execution_count": 63,
   "id": "712a730d-de65-4ed3-a880-f122b427032f",
   "metadata": {},
   "outputs": [
    {
     "name": "stdout",
     "output_type": "stream",
     "text": [
      "torch.Size([2, 8, 64])\n"
     ]
    }
   ],
   "source": [
    "output = encoder(\n",
    "    k.to(torch.int32),\n",
    "    mask=mask)"
   ]
  },
  {
   "cell_type": "code",
   "execution_count": 64,
   "id": "8c5b48da-d681-48b2-a150-3f47ce307f2c",
   "metadata": {},
   "outputs": [
    {
     "data": {
      "text/plain": [
       "torch.Size([2, 8, 64])"
      ]
     },
     "execution_count": 64,
     "metadata": {},
     "output_type": "execute_result"
    }
   ],
   "source": [
    "output.shape"
   ]
  },
  {
   "cell_type": "code",
   "execution_count": 65,
   "id": "86086690-f220-4af9-a807-edf3470730ba",
   "metadata": {},
   "outputs": [
    {
     "data": {
      "text/plain": [
       "tensor([[[-0.4391, -1.8515, -0.8418,  ...,  0.6907, -0.0847,  0.8816],\n",
       "         [ 3.0435,  0.5011, -0.1033,  ...,  1.4353,  0.1848, -0.4028],\n",
       "         [ 0.8422, -1.1325, -0.8021,  ..., -1.2472, -1.3949,  0.6650],\n",
       "         ...,\n",
       "         [ 2.2137, -2.7385,  0.3143,  ...,  0.3130, -1.5519, -0.7651],\n",
       "         [ 1.7087, -1.1008,  0.9134,  ...,  0.3804,  0.2236, -0.2529],\n",
       "         [ 1.3546,  0.4397, -0.5981,  ...,  0.5595,  0.7469,  0.1898]],\n",
       "\n",
       "        [[ 2.6964, -1.3504, -0.6953,  ...,  1.2061, -0.8188,  0.4482],\n",
       "         [-0.9991, -1.7268,  1.4084,  ...,  1.4026, -0.7045, -0.0687],\n",
       "         [-0.0136, -1.0802,  2.0668,  ...,  1.7309, -0.5650, -0.9085],\n",
       "         ...,\n",
       "         [ 1.2171, -0.9127, -0.3268,  ...,  1.0246,  1.2878, -0.7483],\n",
       "         [ 0.2356, -0.0503,  1.0148,  ...,  0.1918, -0.0551, -0.0698],\n",
       "         [ 0.1326, -0.8866,  0.5033,  ..., -0.7366, -1.3109,  1.6053]]],\n",
       "       grad_fn=<NativeLayerNormBackward0>)"
      ]
     },
     "execution_count": 65,
     "metadata": {},
     "output_type": "execute_result"
    }
   ],
   "source": [
    "output"
   ]
  },
  {
   "cell_type": "code",
   "execution_count": 66,
   "id": "43e20c35-ec23-436f-943f-c9b0eb864fe4",
   "metadata": {},
   "outputs": [
    {
     "data": {
      "text/plain": [
       "torch.Size([2, 8, 64])"
      ]
     },
     "execution_count": 66,
     "metadata": {},
     "output_type": "execute_result"
    }
   ],
   "source": [
    "output.shape"
   ]
  },
  {
   "cell_type": "code",
   "execution_count": null,
   "id": "edbcef8a-2c79-4643-ac11-aaaa96e642ad",
   "metadata": {},
   "outputs": [],
   "source": []
  }
 ],
 "metadata": {
  "kernelspec": {
   "display_name": "Python 3 (ipykernel)",
   "language": "python",
   "name": "python3"
  },
  "language_info": {
   "codemirror_mode": {
    "name": "ipython",
    "version": 3
   },
   "file_extension": ".py",
   "mimetype": "text/x-python",
   "name": "python",
   "nbconvert_exporter": "python",
   "pygments_lexer": "ipython3",
   "version": "3.8.18"
  }
 },
 "nbformat": 4,
 "nbformat_minor": 5
}
