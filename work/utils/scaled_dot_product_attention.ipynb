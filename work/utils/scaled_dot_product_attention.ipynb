{
 "cells": [
  {
   "cell_type": "code",
   "execution_count": 4,
   "id": "9d926ce5-c85d-4deb-8326-7e0ea58e9564",
   "metadata": {},
   "outputs": [],
   "source": [
    "import torch\n",
    "import numpy as np\n",
    "from torch import nn"
   ]
  },
  {
   "cell_type": "markdown",
   "id": "5a84d901-5b07-4155-ae73-5ddaf112c50c",
   "metadata": {},
   "source": [
    "## ScaledDotProductAttentionの実装\n",
    "---\n",
    "### 概要\n",
    "---\n",
    "qは***[batch,T,d_model]***の次元を持っている。\n",
    "qはhで割られて分割されるので分割された後[h,batch,T,d_k]の次元になる。この時h×d_k=d_modelとなる。\n",
    "このd_kを使ってスケーリングをする。\n",
    "\n",
    "\n",
    "### attention_maskの実装\n",
    "---\n",
    "attention_weightに対して同じ形状のmaskは未来の情報を参照しないように上三角行列のようなマスクをかける。\n",
    "tensor.masked_fill_()メソッドは元テンソルとmaskの形状が同じ時maskのTrueの部分に対して第二引数に与えられた値で元テンソルを埋める。\n",
    "今回はその値がfloatで指定できる一番小さい値であるためsoftmaxをかけた時0に行くようになっている。\n",
    "\n",
    "\n",
    "### logitの作成\n",
    "---\n",
    "これは見慣れたいつもの式でDotProductattentionを作成する。\n",
    "```\n",
    "torch.matmul(q,torch.transpose(k,1,2))/d_k**(0.5)\n",
    "```\n",
    "\n",
    "\n",
    "### softmaxを通す\n",
    "---\n",
    "これも見慣れた式でやる。\n",
    "```\n",
    "nn.functional.softmax(logit,dim=2)\n",
    "```\n",
    "\n",
    "\n",
    "### vと掛け算する。\n",
    "---\n",
    "これもいつも通り\n",
    "```\n",
    "torch.matmul(attention_weight,v)\n",
    "```"
   ]
  },
  {
   "cell_type": "code",
   "execution_count": 5,
   "id": "59813c79-57cf-439c-9021-dde927326c46",
   "metadata": {},
   "outputs": [],
   "source": [
    "class ScaledDotProductAttention(nn.Module):\n",
    "    def __init__(self,\n",
    "                 d_k:int\n",
    "                ) -> None:\n",
    "        super().__init__()\n",
    "        self.d_k = d_k\n",
    "    def forward(\n",
    "        self,\n",
    "        q:torch.Tensor,\n",
    "        k:torch.Tensor,\n",
    "        v:torch.Tensor,\n",
    "        mask:torch.Tensor = None,\n",
    "    ) -> torch.Tensor:\n",
    "        \n",
    "        ###次元の調節\n",
    "        scaler = self.d_k**(0.5)\n",
    "        ###attention_weightの作成。\n",
    "        logit = torch.matmul(q,torch.transpose(k,1,2))/scaler\n",
    "        ###maskの作成\n",
    "        ###maskがNoneじゃなかったらshapeの確認\n",
    "        if mask is not None:\n",
    "            if mask.dim() != attention_weight.dim():\n",
    "                print(\"mask must have same dim with attention_weight\")\n",
    "            else:\n",
    "                with torch.no_grad():\n",
    "                    attention_weight = logit.masked_fill_(\n",
    "                      mask,\n",
    "                      -torch.finfo(torch.float).max\n",
    "                    )\n",
    "        attention_weight = nn.functional.softmax(logit,dim=2)\n",
    "        return torch.matmul(attention_weight,v)"
   ]
  }
 ],
 "metadata": {
  "kernelspec": {
   "display_name": "Python 3 (ipykernel)",
   "language": "python",
   "name": "python3"
  },
  "language_info": {
   "codemirror_mode": {
    "name": "ipython",
    "version": 3
   },
   "file_extension": ".py",
   "mimetype": "text/x-python",
   "name": "python",
   "nbconvert_exporter": "python",
   "pygments_lexer": "ipython3",
   "version": "3.8.18"
  }
 },
 "nbformat": 4,
 "nbformat_minor": 5
}
